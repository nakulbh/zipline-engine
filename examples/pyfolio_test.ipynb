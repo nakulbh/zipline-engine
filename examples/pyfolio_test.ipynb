{
 "cells": [
  {
   "cell_type": "code",
   "execution_count": 1,
   "id": "c425fd3a",
   "metadata": {},
   "outputs": [],
   "source": [
    "import pandas as pd\n",
    "import pyfolio as pf\n",
    "import warnings\n",
    "warnings.filterwarnings(\"ignore\")"
   ]
  },
  {
   "cell_type": "code",
   "execution_count": null,
   "id": "e591d8d8",
   "metadata": {},
   "outputs": [
    {
     "name": "stdout",
     "output_type": "stream",
     "text": [
      "                                        period_open              period_close  \\\n",
      "2019-01-01 10:00:00+00:00 2019-01-01 03:46:00+00:00 2019-01-01 10:00:00+00:00   \n",
      "2019-01-02 10:00:00+00:00 2019-01-02 03:46:00+00:00 2019-01-02 10:00:00+00:00   \n",
      "2019-01-03 10:00:00+00:00 2019-01-03 03:46:00+00:00 2019-01-03 10:00:00+00:00   \n",
      "2019-01-04 10:00:00+00:00 2019-01-04 03:46:00+00:00 2019-01-04 10:00:00+00:00   \n",
      "2019-01-07 10:00:00+00:00 2019-01-07 03:46:00+00:00 2019-01-07 10:00:00+00:00   \n",
      "\n",
      "                           net_leverage  starting_exposure   returns  \\\n",
      "2019-01-01 10:00:00+00:00      0.004319               0.00 -0.000843   \n",
      "2019-01-02 10:00:00+00:00      0.168673             431.50 -0.002616   \n",
      "2019-01-03 10:00:00+00:00      0.171312           16809.00 -0.000452   \n",
      "2019-01-04 10:00:00+00:00      0.153394           17064.25  0.000978   \n",
      "2019-01-07 10:00:00+00:00      0.153238           15294.40 -0.000184   \n",
      "\n",
      "                           ending_exposure  starting_value  ending_value  \\\n",
      "2019-01-01 10:00:00+00:00           431.50            0.00        431.50   \n",
      "2019-01-02 10:00:00+00:00         16809.00          431.50      16809.00   \n",
      "2019-01-03 10:00:00+00:00         17064.25        16809.00      17064.25   \n",
      "2019-01-04 10:00:00+00:00         15294.40        17064.25      15294.40   \n",
      "2019-01-07 10:00:00+00:00         15276.05        15294.40      15276.05   \n",
      "\n",
      "                           starting_cash   ending_cash  ...    sortino  \\\n",
      "2019-01-01 10:00:00+00:00  100000.000000  99484.194894  ...        NaN   \n",
      "2019-01-02 10:00:00+00:00   99484.194894  82845.364791  ... -14.127344   \n",
      "2019-01-03 10:00:00+00:00   82845.364791  82545.114791  ... -12.868389   \n",
      "2019-01-04 10:00:00+00:00   82545.114791  84412.414790  ...  -8.356006   \n",
      "2019-01-07 10:00:00+00:00   84412.414790  84412.414790  ...  -7.925711   \n",
      "\n",
      "                           max_drawdown  max_leverage  excess_return  \\\n",
      "2019-01-01 10:00:00+00:00     -0.000843      0.154876            0.0   \n",
      "2019-01-02 10:00:00+00:00     -0.003456      0.315039            0.0   \n",
      "2019-01-03 10:00:00+00:00     -0.003906      0.315039            0.0   \n",
      "2019-01-04 10:00:00+00:00     -0.003906      0.315039            0.0   \n",
      "2019-01-07 10:00:00+00:00     -0.003906      0.315039            0.0   \n",
      "\n",
      "                           treasury_period_return  trading_days  period_label  \\\n",
      "2019-01-01 10:00:00+00:00                     0.0             1       2019-01   \n",
      "2019-01-02 10:00:00+00:00                     0.0             2       2019-01   \n",
      "2019-01-03 10:00:00+00:00                     0.0             3       2019-01   \n",
      "2019-01-04 10:00:00+00:00                     0.0             4       2019-01   \n",
      "2019-01-07 10:00:00+00:00                     0.0             5       2019-01   \n",
      "\n",
      "                           algo_volatility  benchmark_period_return  \\\n",
      "2019-01-01 10:00:00+00:00              NaN                 0.016565   \n",
      "2019-01-02 10:00:00+00:00         0.019896                -0.006761   \n",
      "2019-01-03 10:00:00+00:00         0.018305                -0.016058   \n",
      "2019-01-04 10:00:00+00:00         0.023481                 0.005071   \n",
      "2019-01-07 10:00:00+00:00         0.020705                 0.002535   \n",
      "\n",
      "                          benchmark_volatility  \n",
      "2019-01-01 10:00:00+00:00                  NaN  \n",
      "2019-01-02 10:00:00+00:00             0.443518  \n",
      "2019-01-03 10:00:00+00:00             0.318671  \n",
      "2019-01-04 10:00:00+00:00             0.335684  \n",
      "2019-01-07 10:00:00+00:00             0.292064  \n",
      "\n",
      "[5 rows x 54 columns]\n"
     ]
    }
   ],
   "source": [
    "perf = pd.read_pickle(\"demo_backtest.pickle\")\n",
    "\n",
    "print(perf.head())"
   ]
  },
  {
   "cell_type": "code",
   "execution_count": 3,
   "id": "c58cc532",
   "metadata": {},
   "outputs": [
    {
     "ename": "ValueError",
     "evalue": "DataFrame constructor not properly called!",
     "output_type": "error",
     "traceback": [
      "\u001b[0;31m---------------------------------------------------------------------------\u001b[0m",
      "\u001b[0;31mValueError\u001b[0m                                Traceback (most recent call last)",
      "\u001b[0;32m/tmp/ipykernel_799155/1385112860.py\u001b[0m in \u001b[0;36m?\u001b[0;34m()\u001b[0m\n\u001b[0;32m----> 1\u001b[0;31m \u001b[0mreturns\u001b[0m\u001b[0;34m,\u001b[0m \u001b[0mpositions\u001b[0m\u001b[0;34m,\u001b[0m \u001b[0mtransactions\u001b[0m \u001b[0;34m=\u001b[0m \u001b[0mpf\u001b[0m\u001b[0;34m.\u001b[0m\u001b[0mutils\u001b[0m\u001b[0;34m.\u001b[0m\u001b[0mextract_rets_pos_txn_from_zipline\u001b[0m\u001b[0;34m(\u001b[0m\u001b[0mperf\u001b[0m\u001b[0;34m)\u001b[0m\u001b[0;34m\u001b[0m\u001b[0;34m\u001b[0m\u001b[0m\n\u001b[0m",
      "\u001b[0;32m~/Desktop/Ankit/QuantMania/bactestingEngine/zipline-engine/.venv/lib/python3.10/site-packages/pyfolio/utils.py\u001b[0m in \u001b[0;36m?\u001b[0;34m(backtest)\u001b[0m\n\u001b[1;32m    171\u001b[0m         \u001b[0mbacktest\u001b[0m\u001b[0;34m.\u001b[0m\u001b[0mindex\u001b[0m \u001b[0;34m=\u001b[0m \u001b[0mbacktest\u001b[0m\u001b[0;34m.\u001b[0m\u001b[0mindex\u001b[0m\u001b[0;34m.\u001b[0m\u001b[0mtz_localize\u001b[0m\u001b[0;34m(\u001b[0m\u001b[0;34m\"UTC\"\u001b[0m\u001b[0;34m)\u001b[0m\u001b[0;34m\u001b[0m\u001b[0;34m\u001b[0m\u001b[0m\n\u001b[1;32m    172\u001b[0m     \u001b[0mreturns\u001b[0m \u001b[0;34m=\u001b[0m \u001b[0mbacktest\u001b[0m\u001b[0;34m.\u001b[0m\u001b[0mreturns\u001b[0m\u001b[0;34m\u001b[0m\u001b[0;34m\u001b[0m\u001b[0m\n\u001b[1;32m    173\u001b[0m     \u001b[0mraw_positions\u001b[0m \u001b[0;34m=\u001b[0m \u001b[0;34m[\u001b[0m\u001b[0;34m]\u001b[0m\u001b[0;34m\u001b[0m\u001b[0;34m\u001b[0m\u001b[0m\n\u001b[1;32m    174\u001b[0m     \u001b[0;32mfor\u001b[0m \u001b[0mdt\u001b[0m\u001b[0;34m,\u001b[0m \u001b[0mpos_row\u001b[0m \u001b[0;32min\u001b[0m \u001b[0mbacktest\u001b[0m\u001b[0;34m.\u001b[0m\u001b[0mpositions\u001b[0m\u001b[0;34m.\u001b[0m\u001b[0mitems\u001b[0m\u001b[0;34m(\u001b[0m\u001b[0;34m)\u001b[0m\u001b[0;34m:\u001b[0m\u001b[0;34m\u001b[0m\u001b[0;34m\u001b[0m\u001b[0m\n\u001b[0;32m--> 175\u001b[0;31m         \u001b[0mdf\u001b[0m \u001b[0;34m=\u001b[0m \u001b[0mpd\u001b[0m\u001b[0;34m.\u001b[0m\u001b[0mDataFrame\u001b[0m\u001b[0;34m(\u001b[0m\u001b[0mpos_row\u001b[0m\u001b[0;34m)\u001b[0m\u001b[0;34m\u001b[0m\u001b[0;34m\u001b[0m\u001b[0m\n\u001b[0m\u001b[1;32m    176\u001b[0m         \u001b[0mdf\u001b[0m\u001b[0;34m.\u001b[0m\u001b[0mindex\u001b[0m \u001b[0;34m=\u001b[0m \u001b[0;34m[\u001b[0m\u001b[0mdt\u001b[0m\u001b[0;34m]\u001b[0m \u001b[0;34m*\u001b[0m \u001b[0mlen\u001b[0m\u001b[0;34m(\u001b[0m\u001b[0mdf\u001b[0m\u001b[0;34m)\u001b[0m\u001b[0;34m\u001b[0m\u001b[0;34m\u001b[0m\u001b[0m\n\u001b[1;32m    177\u001b[0m         \u001b[0mraw_positions\u001b[0m\u001b[0;34m.\u001b[0m\u001b[0mappend\u001b[0m\u001b[0;34m(\u001b[0m\u001b[0mdf\u001b[0m\u001b[0;34m)\u001b[0m\u001b[0;34m\u001b[0m\u001b[0;34m\u001b[0m\u001b[0m\n\u001b[1;32m    178\u001b[0m     \u001b[0;32mif\u001b[0m \u001b[0;32mnot\u001b[0m \u001b[0mraw_positions\u001b[0m\u001b[0;34m:\u001b[0m\u001b[0;34m\u001b[0m\u001b[0;34m\u001b[0m\u001b[0m\n",
      "\u001b[0;32m~/Desktop/Ankit/QuantMania/bactestingEngine/zipline-engine/.venv/lib/python3.10/site-packages/pandas/core/frame.py\u001b[0m in \u001b[0;36m?\u001b[0;34m(self, data, index, columns, dtype, copy)\u001b[0m\n\u001b[1;32m    882\u001b[0m                 )\n\u001b[1;32m    883\u001b[0m         \u001b[0;31m# For data is scalar\u001b[0m\u001b[0;34m\u001b[0m\u001b[0;34m\u001b[0m\u001b[0m\n\u001b[1;32m    884\u001b[0m         \u001b[0;32melse\u001b[0m\u001b[0;34m:\u001b[0m\u001b[0;34m\u001b[0m\u001b[0;34m\u001b[0m\u001b[0m\n\u001b[1;32m    885\u001b[0m             \u001b[0;32mif\u001b[0m \u001b[0mindex\u001b[0m \u001b[0;32mis\u001b[0m \u001b[0;32mNone\u001b[0m \u001b[0;32mor\u001b[0m \u001b[0mcolumns\u001b[0m \u001b[0;32mis\u001b[0m \u001b[0;32mNone\u001b[0m\u001b[0;34m:\u001b[0m\u001b[0;34m\u001b[0m\u001b[0;34m\u001b[0m\u001b[0m\n\u001b[0;32m--> 886\u001b[0;31m                 \u001b[0;32mraise\u001b[0m \u001b[0mValueError\u001b[0m\u001b[0;34m(\u001b[0m\u001b[0;34m\"DataFrame constructor not properly called!\"\u001b[0m\u001b[0;34m)\u001b[0m\u001b[0;34m\u001b[0m\u001b[0;34m\u001b[0m\u001b[0m\n\u001b[0m\u001b[1;32m    887\u001b[0m \u001b[0;34m\u001b[0m\u001b[0m\n\u001b[1;32m    888\u001b[0m             \u001b[0mindex\u001b[0m \u001b[0;34m=\u001b[0m \u001b[0mensure_index\u001b[0m\u001b[0;34m(\u001b[0m\u001b[0mindex\u001b[0m\u001b[0;34m)\u001b[0m\u001b[0;34m\u001b[0m\u001b[0;34m\u001b[0m\u001b[0m\n\u001b[1;32m    889\u001b[0m             \u001b[0mcolumns\u001b[0m \u001b[0;34m=\u001b[0m \u001b[0mensure_index\u001b[0m\u001b[0;34m(\u001b[0m\u001b[0mcolumns\u001b[0m\u001b[0;34m)\u001b[0m\u001b[0;34m\u001b[0m\u001b[0;34m\u001b[0m\u001b[0m\n",
      "\u001b[0;31mValueError\u001b[0m: DataFrame constructor not properly called!"
     ]
    }
   ],
   "source": [
    "returns, positions, transactions = pf.utils.extract_rets_pos_txn_from_zipline(perf)"
   ]
  }
 ],
 "metadata": {
  "kernelspec": {
   "display_name": ".venv",
   "language": "python",
   "name": "python3"
  },
  "language_info": {
   "codemirror_mode": {
    "name": "ipython",
    "version": 3
   },
   "file_extension": ".py",
   "mimetype": "text/x-python",
   "name": "python",
   "nbconvert_exporter": "python",
   "pygments_lexer": "ipython3",
   "version": "3.10.16"
  }
 },
 "nbformat": 4,
 "nbformat_minor": 5
}
