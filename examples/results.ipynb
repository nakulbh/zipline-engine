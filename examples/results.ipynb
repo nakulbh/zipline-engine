{
 "cells": [
  {
   "cell_type": "code",
   "execution_count": 3,
   "id": "2e801b87",
   "metadata": {},
   "outputs": [
    {
     "name": "stdout",
     "output_type": "stream",
     "text": [
      "Index(['Unnamed: 0', 'period_open', 'period_close', 'long_value',\n",
      "       'short_value', 'long_exposure', 'pnl', 'short_exposure', 'capital_used',\n",
      "       'orders', 'transactions', 'gross_leverage', 'positions', 'net_leverage',\n",
      "       'starting_exposure', 'returns', 'ending_exposure', 'starting_value',\n",
      "       'ending_value', 'starting_cash', 'ending_cash', 'portfolio_value',\n",
      "       'longs_count', 'shorts_count', 'algo_volatility',\n",
      "       'benchmark_period_return', 'benchmark_volatility',\n",
      "       'algorithm_period_return', 'alpha', 'beta', 'sharpe', 'sortino',\n",
      "       'max_drawdown', 'max_leverage', 'excess_return',\n",
      "       'treasury_period_return', 'trading_days', 'period_label'],\n",
      "      dtype='object')\n"
     ]
    }
   ],
   "source": [
    "import pandas as pd\n",
    "\n",
    "results = pd.read_csv(\"backtest_results.csv\")\n",
    "\n",
    "print(results.columns)"
   ]
  },
  {
   "cell_type": "code",
   "execution_count": null,
   "id": "6a831c9d",
   "metadata": {},
   "outputs": [],
   "source": []
  }
 ],
 "metadata": {
  "kernelspec": {
   "display_name": "zipline-engine",
   "language": "python",
   "name": "python3"
  },
  "language_info": {
   "codemirror_mode": {
    "name": "ipython",
    "version": 3
   },
   "file_extension": ".py",
   "mimetype": "text/x-python",
   "name": "python",
   "nbconvert_exporter": "python",
   "pygments_lexer": "ipython3",
   "version": "3.10.18"
  }
 },
 "nbformat": 4,
 "nbformat_minor": 5
}
