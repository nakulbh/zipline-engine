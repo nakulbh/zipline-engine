{
 "cells": [
  {
   "cell_type": "code",
   "execution_count": 10,
   "id": "929f68cf",
   "metadata": {},
   "outputs": [
    {
     "name": "stdout",
     "output_type": "stream",
     "text": [
      "/home/nakulbh/Desktop/Ankit/QuantMania/bactestingEngine/zipline-engine/.zipline\n",
      "Registered bundles: ['quandl', 'quantopian-quandl', 'csvdir']\n"
     ]
    }
   ],
   "source": [
    "from dotenv import load_dotenv\n",
    "import os\n",
    "from zipline.data.bundles import load\n",
    "\n",
    "load_dotenv()\n",
    "print(os.environ.get('ZIPLINE_ROOT'))\n",
    "\n",
    "# Set the environment variable directly\n",
    "os.environ['ZIPLINE_ROOT'] = '/home/nakulbh/Desktop/Ankit/QuantMania/bactestingEngine/zipline-engine/.zipline'  # Replace with your actual path\n",
    "\n",
    "# Now try loading your bundle\n",
    "# bundle_data = load('nse-local-minute-bundle', os.environ, None)\n",
    "# print(f\"First trading day: {bundle_data.equity_daily_bar_reader.first_trading_day}\")\n",
    "# print(f\"Last trading day: {bundle_data.equity_daily_bar_reader.last_available_dt}\")\n",
    "\n",
    "from zipline.data.bundles import bundles\n",
    "print(\"Registered bundles:\", list(bundles.keys()))\n"
   ]
  },
  {
   "cell_type": "code",
   "execution_count": null,
   "id": "a7554ed5",
   "metadata": {},
   "outputs": [],
   "source": [
    "from zipline.utils.calendar_utils import get_calendar\n",
    "get_calendar(\"NYSE\")  # National Stock Exchange of India\n"
   ]
  },
  {
   "cell_type": "code",
   "execution_count": null,
   "id": "6c95798a",
   "metadata": {},
   "outputs": [],
   "source": [
    "from zipline.data.bundles import load\n",
    "\n",
    "# Check what dates are actually available in your bundle\n",
    "bundle_data = load('nse-local-minute-bundle', os.environ, None)\n",
    "print(f\"First trading day: {bundle_data.equity_daily_bar_reader.first_trading_day}\")\n",
    "print(f\"Last trading day: {bundle_data.equity_daily_bar_reader.last_available_dt}\")"
   ]
  }
 ],
 "metadata": {
  "kernelspec": {
   "display_name": ".venv",
   "language": "python",
   "name": "python3"
  },
  "language_info": {
   "codemirror_mode": {
    "name": "ipython",
    "version": 3
   },
   "file_extension": ".py",
   "mimetype": "text/x-python",
   "name": "python",
   "nbconvert_exporter": "python",
   "pygments_lexer": "ipython3",
   "version": "3.10.16"
  }
 },
 "nbformat": 4,
 "nbformat_minor": 5
}
