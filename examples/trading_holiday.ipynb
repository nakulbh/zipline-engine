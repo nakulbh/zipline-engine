{
 "cells": [
  {
   "cell_type": "code",
   "execution_count": 1,
   "id": "38887389",
   "metadata": {},
   "outputs": [
    {
     "name": "stdout",
     "output_type": "stream",
     "text": [
      "Valid trading range: 2005-07-05 to 2026-07-02\n",
      "First few sessions: DatetimeIndex(['2018-01-02', '2018-01-03', '2018-01-04', '2018-01-05',\n",
      "               '2018-01-08', '2018-01-09', '2018-01-10'],\n",
      "              dtype='datetime64[ns]', freq='C')\n",
      "Last few sessions: DatetimeIndex(['2023-12-26', '2023-12-27', '2023-12-28', '2023-12-29',\n",
      "               '2024-01-02', '2024-01-03', '2024-01-04', '2024-01-05',\n",
      "               '2024-01-08', '2024-01-09', '2024-01-10'],\n",
      "              dtype='datetime64[ns]', freq='C')\n"
     ]
    }
   ],
   "source": [
    "from exchange_calendars import get_calendar\n",
    "\n",
    "# Get NYSE calendar\n",
    "cal = get_calendar(\"XNYS\")\n",
    "\n",
    "# Show valid date range\n",
    "print(\"Valid trading range:\", cal.first_session.date(), \"to\", cal.last_session.date())\n",
    "\n",
    "# Example: nearest valid sessions to your range\n",
    "print(\"First few sessions:\", cal.sessions_in_range(\"2018-01-01\", \"2018-01-10\"))\n",
    "print(\"Last few sessions:\", cal.sessions_in_range(\"2023-12-25\", \"2024-01-10\"))\n",
    "\n"
   ]
  }
 ],
 "metadata": {
  "kernelspec": {
   "display_name": ".venv",
   "language": "python",
   "name": "python3"
  },
  "language_info": {
   "codemirror_mode": {
    "name": "ipython",
    "version": 3
   },
   "file_extension": ".py",
   "mimetype": "text/x-python",
   "name": "python",
   "nbconvert_exporter": "python",
   "pygments_lexer": "ipython3",
   "version": "3.10.16"
  }
 },
 "nbformat": 4,
 "nbformat_minor": 5
}
