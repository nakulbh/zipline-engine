{
 "cells": [
  {
   "cell_type": "code",
   "execution_count": null,
   "id": "38887389",
   "metadata": {},
   "outputs": [
    {
     "name": "stdout",
     "output_type": "stream",
     "text": [
      "['24/5', '24/7', 'AIXK', 'ARCX', 'ASEX', 'ASX', 'BATS', 'BMF', 'BSE', 'BVB', 'BVMF', 'CBOT', 'CFE', 'CME', 'CMES', 'COMEX', 'FWB', 'HKEX', 'ICE', 'ICEUS', 'IEPA', 'JKT', 'JPX', 'LSE', 'LUXSE', 'NASDAQ', 'NYFE', 'NYMEX', 'NYSE', 'OOTC', 'OSE', 'SIX', 'SSE', 'TASE', 'TSX', 'XAMS', 'XASE', 'XASX', 'XBKK', 'XBOG', 'XBOM', 'XBRU', 'XBSE', 'XBUD', 'XBUE', 'XCBF', 'XCSE', 'XDUB', 'XDUS', 'XEEE', 'XETR', 'XFRA', 'XHAM', 'XHEL', 'XHKG', 'XICE', 'XIDX', 'XIST', 'XJSE', 'XKAR', 'XKLS', 'XKRX', 'XLIM', 'XLIS', 'XLON', 'XLUX', 'XMAD', 'XMEX', 'XMIL', 'XMOS', 'XNAS', 'XNYS', 'XNZE', 'XOSL', 'XPAR', 'XPHS', 'XPRA', 'XSAU', 'XSES', 'XSGO', 'XSHG', 'XSTO', 'XSWX', 'XTAE', 'XTAI', 'XTKS', 'XTSE', 'XTSX', 'XWAR', 'XWBO', 'us_futures']\n"
     ]
    }
   ],
   "source": [
    "from exchange_calendars import get_calendar\n",
    "\n",
    "# Get NYSE calendar\n",
    "cal = get_calendar(\"XNYS\")\n",
    "\n",
    "# Show valid date range\n",
    "print(\"Valid trading range:\", cal.first_session.date(), \"to\", cal.last_session.date())\n",
    "\n",
    "# Example: nearest valid sessions to your range\n",
    "print(\"First few sessions:\", cal.sessions_in_range(\"2018-01-01\", \"2018-01-10\"))\n",
    "print(\"Last few sessions:\", cal.sessions_in_range(\"2023-12-25\", \"2024-01-10\"))\n",
    "\n"
   ]
  }
 ],
 "metadata": {
  "kernelspec": {
   "display_name": ".venv",
   "language": "python",
   "name": "python3"
  },
  "language_info": {
   "codemirror_mode": {
    "name": "ipython",
    "version": 3
   },
   "file_extension": ".py",
   "mimetype": "text/x-python",
   "name": "python",
   "nbconvert_exporter": "python",
   "pygments_lexer": "ipython3",
   "version": "3.10.16"
  }
 },
 "nbformat": 4,
 "nbformat_minor": 5
}
