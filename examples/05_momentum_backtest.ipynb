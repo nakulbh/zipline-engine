{
 "cells": [
  {
   "cell_type": "markdown",
   "id": "39cfc649",
   "metadata": {},
   "source": [
    "### Importing Libraries\n",
    "The first step in any Python script or Jupyter notebook is to import the necessary libraries. Here, we are importing libraries that will be used for our event-based backtest."
   ]
  },
  {
   "cell_type": "code",
   "execution_count": 1,
   "id": "ddcdf087",
   "metadata": {},
   "outputs": [],
   "source": [
    "import pandas as pd\n",
    "import numpy as np\n",
    "\n",
    "from zipline import run_algorithm\n",
    "from zipline.pipeline import Pipeline\n",
    "from zipline.pipeline.data import USEquityPricing\n",
    "from zipline.pipeline.factors import AverageDollarVolume, CustomFactor, Returns\n",
    "from zipline.api import (\n",
    "    symbol,\n",
    "    attach_pipeline,\n",
    "    calendars,\n",
    "    pipeline_output,\n",
    "    date_rules,\n",
    "    time_rules,\n",
    "    get_datetime,\n",
    "    set_commission,\n",
    "    set_slippage,\n",
    "    record,\n",
    "    order_target_percent,\n",
    "    get_open_orders,\n",
    "    schedule_function,\n",
    "    set_commission,\n",
    "    set_slippage,\n",
    "    set_benchmark\n",
    ")\n",
    "from zipline.finance import commission, slippage\n",
    "import pyfolio as pf"
   ]
  },
  {
   "cell_type": "markdown",
   "id": "e85f2ce7",
   "metadata": {},
   "source": [
    "### Trade settings\n",
    "Instead of hard coding these settings inside the backtest, we'll make it easier on ourselves by setting them up front. In this case,set the number of long and short positions to take in our portfolio and the average dollar volume screener."
   ]
  },
  {
   "cell_type": "code",
   "execution_count": null,
   "id": "033975ae",
   "metadata": {},
   "outputs": [],
   "source": [
    "N_LONGS = N_SHORTS = 50\n",
    "DOLLAR_VOLUME = 500"
   ]
  },
  {
   "cell_type": "markdown",
   "id": "c6660839",
   "metadata": {},
   "source": [
    "### The custom momentum factor\n",
    "The class inherits from CustomFactor and specifies its inputs and the window length required for its computations. The inputs include the closing price of US equities (USEquityPricing.close) and the returns over a specified window length (126 trading days in this case). The window_length attribute is set to 252, which typically represents the number of trading days in a year. The compute method is where the core logic of the factor is implemented. This method is automatically called by Zipline with the necessary data aligned according to the specified inputs and window_length. The compute method calculates the momentum factor for each asset based on price changes over different periods: the change in price over the last 252 days (1 year) and the change over the last 21 days (1 month). This is then normalized by the standard deviation of returns over the specified period, to account for volatility. This normalization provides a relative measure of momentum, making it more comparable across different assets."
   ]
  },
  {
   "cell_type": "code",
   "execution_count": null,
   "id": "41cd2b27",
   "metadata": {},
   "outputs": [],
   "source": [
    "class MomentumFactor(CustomFactor):\n",
    "    inputs = [USEquityPricing.close, Returns(window_length=126)]\n",
    "    window_length = 252\n",
    "\n",
    "    def compute(self, today, assets, out, prices, returns):\n",
    "        out[:] = (\n",
    "            (prices[-21] - prices[-252]) / prices[-252] - (prices[-1] - prices[-21]) / prices[-21]\n",
    "        ) / np.nanstd(returns, axis=0)"
   ]
  },
  {
   "cell_type": "markdown",
   "id": "3b76246d",
   "metadata": {},
   "source": [
    "### Create the Pipeline\n",
    "A Pipeline is a framework that allows for the definition and efficient computation of a wide array of financial data over a set of assets. Within this pipeline, it incorporates a custom factor, MomentumFactor(), and a built-in factor, AverageDollarVolume(window_length=30). The pipeline is set up with four columns: \"factor\" holds the computed momentum values, \"longs\" and \"shorts\" represent the top and bottom assets based on momentum for a specified number of assets (N_LONGS and N_SHORTS), and \"ranking\" provides a rank of assets based on their momentum. We then use the built in AverageDollarVolume factor to set a screener to only include the top 500 assets by dollar volume."
   ]
  },
  {
   "cell_type": "code",
   "execution_count": null,
   "id": "ba49973b",
   "metadata": {},
   "outputs": [],
   "source": [
    "def make_pipeline():\n",
    "    momentum = MomentumFactor()\n",
    "    dollar_volume = AverageDollarVolume(window_length=21)\n",
    "    return Pipeline(\n",
    "        columns={\n",
    "            \"factor\": momentum,\n",
    "            \"longs\": momentum.top(N_LONGS),\n",
    "            \"shorts\": momentum.bottom(N_SHORTS),\n",
    "            \"ranking\": momentum.rank(),\n",
    "        },\n",
    "        screen=dollar_volume.top(DOLLAR_VOLUME),\n",
    "    )"
   ]
  },
  {
   "cell_type": "markdown",
   "id": "e5e05256",
   "metadata": {},
   "source": [
    "### Recalculate the momentum factor\n",
    "This function will be called before the trading day starts. It recalculate the factor values for each asset in the universe."
   ]
  },
  {
   "cell_type": "code",
   "execution_count": null,
   "id": "dc168b1e",
   "metadata": {},
   "outputs": [],
   "source": [
    "def before_trading_start(context, data):\n",
    "    context.factor_data = pipeline_output(\"factor_pipeline\")"
   ]
  },
  {
   "cell_type": "markdown",
   "id": "53ceb1bc",
   "metadata": {},
   "source": [
    "### Initialize the backtest\n",
    "The initialize function is run at the inception of the backtest. This is where we set up variables and execute calculations we want to use throughout the backtest. The context object is used to store state throughout the backtest. Here, we attach, or install, the Pipeline for use in the backtest. Then we schedule the rebalance function defined next to run at the market open every week on Monday. Finally, we set a commission and slippage model."
   ]
  },
  {
   "cell_type": "code",
   "execution_count": null,
   "id": "51b53dc3",
   "metadata": {},
   "outputs": [],
   "source": [
    "def initialize(context):\n",
    "    attach_pipeline(make_pipeline(), \"factor_pipeline\")\n",
    "    schedule_function(\n",
    "        rebalance,\n",
    "        date_rules.week_start(),\n",
    "        time_rules.market_open(),\n",
    "        calendar=calendars.US_EQUITIES,\n",
    "    )\n",
    "    \n",
    "    # Set up the commission model to charge us per share and a volume slippage model\n",
    "    set_commission(\n",
    "        us_equities=commission.PerShare(\n",
    "            cost=0.005,\n",
    "            min_trade_cost=2.0\n",
    "        )\n",
    "    )\n",
    "    set_slippage(\n",
    "        us_equities=slippage.VolumeShareSlippage(\n",
    "            volume_limit=0.0025, \n",
    "            price_impact=0.01\n",
    "        )\n",
    "    )\n",
    "    set_benchmark(symbol(\"SPY\"))"
   ]
  },
  {
   "cell_type": "markdown",
   "id": "8d7a93b8",
   "metadata": {},
   "source": [
    "### Set our rebalance logic\n",
    "In the initialize function, we scheduled the rebalance function to run. This is where the trade logic lives. First, we get DataFrame containing the factor data set in the before_trading_start function. We get the list of selected assets to trade the determine which assets to go long, which to go short, and which to divest. Then we run the exec_trades function on each list passing in the appropriate weights."
   ]
  },
  {
   "cell_type": "code",
   "execution_count": null,
   "id": "af4b2dd7",
   "metadata": {},
   "outputs": [],
   "source": [
    "def rebalance(context, data):\n",
    "    factor_data = context.factor_data\n",
    "    record(factor_data=factor_data.ranking)\n",
    "\n",
    "    assets = factor_data.index\n",
    "    record(prices=data.current(assets, \"price\"))\n",
    "\n",
    "    longs = assets[factor_data.longs]\n",
    "    shorts = assets[factor_data.shorts]\n",
    "    divest = set(context.portfolio.positions.keys()) - set(longs.union(shorts))\n",
    "    \n",
    "    print(\n",
    "        f\"{get_datetime().date()} Longs: {len(longs)} Shorts: {len(shorts)} Value:{context.portfolio.portfolio_value}\"\n",
    "    )\n",
    "\n",
    "    exec_trades(\n",
    "        data, \n",
    "        assets=divest, \n",
    "        target_percent=0\n",
    "    )\n",
    "    exec_trades(\n",
    "        data, \n",
    "        assets=longs, \n",
    "        target_percent=1 / N_LONGS\n",
    "    )\n",
    "    exec_trades(\n",
    "        data, \n",
    "        assets=shorts, \n",
    "        target_percent=-1 / N_SHORTS\n",
    "    )"
   ]
  },
  {
   "cell_type": "markdown",
   "id": "1cf58afd",
   "metadata": {},
   "source": [
    "### Execute the trades\n",
    "We loop through every asset, determine if it's tradeable and there are no open orders. Then we order the target percent and Zipline rebalances our portfolio for us."
   ]
  },
  {
   "cell_type": "code",
   "execution_count": null,
   "id": "1bc6c87a",
   "metadata": {},
   "outputs": [],
   "source": [
    "def exec_trades(data, assets, target_percent):\n",
    "    for asset in assets:\n",
    "        if data.can_trade(asset) and not get_open_orders(asset):\n",
    "            order_target_percent(asset, target_percent)"
   ]
  },
  {
   "cell_type": "markdown",
   "id": "e29bcd11",
   "metadata": {},
   "source": [
    "### Analyze the results\n",
    "We can ask Zipline to run a function at the conclusion of the backtest. In this case, we simply print the equity curve."
   ]
  },
  {
   "cell_type": "code",
   "execution_count": null,
   "id": "2c4f127f",
   "metadata": {},
   "outputs": [],
   "source": [
    "def analyze(context, perf):\n",
    "    perf.portfolio_value.plot()"
   ]
  },
  {
   "cell_type": "markdown",
   "id": "e5e16951",
   "metadata": {},
   "source": [
    "### Run the backtest\n",
    "The run_algorithm funtion kicks off the backtest. It takes the start and end date, the initialize function that runs at the inception of the backtest, the analyze function that runs at the conclusion of the backtest, the capital to start the backtest with, and the name of the bundle."
   ]
  },
  {
   "cell_type": "code",
   "execution_count": null,
   "id": "1bb6abce",
   "metadata": {
    "scrolled": true,
    "tags": []
   },
   "outputs": [],
   "source": [
    "perf = run_algorithm(\n",
    "    start=pd.Timestamp(\"2020-01-01\"),\n",
    "    end=pd.Timestamp(\"2022-12-31\"),\n",
    "    initialize=initialize,\n",
    "    before_trading_start=before_trading_start,\n",
    "    analyze=analyze,\n",
    "    capital_base=100_000,\n",
    "    bundle=\"quotemedia\",\n",
    ")"
   ]
  },
  {
   "cell_type": "markdown",
   "id": "b3dd79dd-d320-4564-8f79-f0d23f167721",
   "metadata": {},
   "source": [
    "### Cache the results for later analysis\n",
    "Since `perf` is a pandas DataFrame, we can use the `to_pickle` method to save a serialized copy of the pandas DataFrame to disk. We'll need this later when we assess this strategy's performance."
   ]
  },
  {
   "cell_type": "code",
   "execution_count": null,
   "id": "0d3f611d",
   "metadata": {},
   "outputs": [],
   "source": [
    "perf.to_pickle(\"momentum.pickle\")"
   ]
  },
  {
   "cell_type": "code",
   "execution_count": null,
   "id": "dd30b1fb",
   "metadata": {},
   "outputs": [],
   "source": []
  }
 ],
 "metadata": {
  "kernelspec": {
   "display_name": "quant-stack-2",
   "language": "python",
   "name": "python3"
  },
  "language_info": {
   "codemirror_mode": {
    "name": "ipython",
    "version": 3
   },
   "file_extension": ".py",
   "mimetype": "text/x-python",
   "name": "python",
   "nbconvert_exporter": "python",
   "pygments_lexer": "ipython3",
   "version": "3.11.7"
  }
 },
 "nbformat": 4,
 "nbformat_minor": 5
}
